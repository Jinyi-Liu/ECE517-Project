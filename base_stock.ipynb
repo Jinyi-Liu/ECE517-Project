{
 "cells": [
  {
   "cell_type": "code",
   "execution_count": 1,
   "metadata": {},
   "outputs": [],
   "source": [
    "import numpy as np"
   ]
  },
  {
   "cell_type": "code",
   "execution_count": 29,
   "metadata": {},
   "outputs": [
    {
     "data": {
      "text/plain": [
       "2826.734777309821"
      ]
     },
     "execution_count": 29,
     "metadata": {},
     "output_type": "execute_result"
    }
   ],
   "source": [
    "## Sample demand data\n",
    "random_state = np.random.RandomState(0)\n",
    "sample_demand = random_state.randint(8, 12+1, size=(1000, ))\n",
    "\n",
    "base_order = 10\n",
    "state = 10\n",
    "lost_sale_cost = 3\n",
    "price = 10\n",
    "whole_sale_price = 5\n",
    "holding_cost = 1\n",
    "over_stock_cost = 3\n",
    "total_reward = []\n",
    "\n",
    "for demand in sample_demand:\n",
    "    next_state = state - demand + base_order\n",
    "    reward = np.minimum(state, demand)*price - np.maximum(demand - state,0)*lost_sale_cost - base_order*whole_sale_price - np.maximum(state-demand,0)*holding_cost\n",
    "    if next_state > 20:\n",
    "        reward -= (next_state-20)*over_stock_cost\n",
    "        # print(\"over stock\", next_state-20)\n",
    "        next_state = 20\n",
    "    total_reward.append(reward)\n",
    "    state = next_state\n",
    "\n",
    "discount_factor = 0.99\n",
    "discounted_reward = []\n",
    "for i in range(len(total_reward)):\n",
    "    discounted_reward.append(total_reward[i]*(discount_factor**i))\n",
    "total_discount_reward = sum(discounted_reward)\n",
    "total_discount_reward"
   ]
  }
 ],
 "metadata": {
  "kernelspec": {
   "display_name": "ece",
   "language": "python",
   "name": "python3"
  },
  "language_info": {
   "codemirror_mode": {
    "name": "ipython",
    "version": 3
   },
   "file_extension": ".py",
   "mimetype": "text/x-python",
   "name": "python",
   "nbconvert_exporter": "python",
   "pygments_lexer": "ipython3",
   "version": "3.9.18"
  }
 },
 "nbformat": 4,
 "nbformat_minor": 2
}
